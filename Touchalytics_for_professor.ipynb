{
 "cells": [
  {
   "cell_type": "code",
   "execution_count": null,
   "metadata": {},
   "outputs": [],
   "source": [
    "import warnings\n",
    "warnings.filterwarnings('ignore')\n",
    "import pandas as pd\n",
    "import numpy as np\n",
    "from sklearn.svm import LinearSVC,SVC\n",
    "from sklearn.model_selection import train_test_split\n",
    "from sklearn.preprocessing import MinMaxScaler\n",
    "from sklearn.metrics import mean_squared_error, confusion_matrix, classification_report\n",
    "from sklearn.metrics import confusion_matrix,accuracy_score\n",
    "from sklearn.neighbors import KNeighborsClassifier\n",
    "from sklearn.metrics import precision_score, recall_score,f1_score\n",
    "\n",
    "\n",
    "data=pd.read_csv(\"feature.csv\")\n",
    "\n",
    "data.dropna(inplace=True)"
   ]
  },
  {
   "cell_type": "code",
   "execution_count": 30,
   "metadata": {},
   "outputs": [],
   "source": [
    "X=data[[ 'inter-stroke time', 'stroke duration',\n",
    "       'start $x$', 'start $y$', 'stop $x$', 'stop $y$',\n",
    "       'direct end-to-end distance', ' mean resultant lenght',\n",
    "       'up/down/left/right flag', 'direction of end-to-end line',\n",
    "       '20\\%-perc. pairwise velocity', '50\\%-perc. pairwise velocity',\n",
    "       '80\\%-perc. pairwise velocity', '20\\%-perc. pairwise acc',\n",
    "       '50\\%-perc. pairwise acc', '80\\%-perc. pairwise acc',\n",
    "       'median velocity at last 3 pts',\n",
    "       'largest deviation from end-to-end line',\n",
    "       '20\\%-perc. dev. from end-to-end line',\n",
    "       '50\\%-perc. dev. from end-to-end line',\n",
    "       '80\\%-perc. dev. from end-to-end line', 'average direction',\n",
    "       'length of trajectory',\n",
    "       'ratio end-to-end dist and length of trajectory', 'average velocity',\n",
    "       'median acceleration at first 5 points', 'mid-stroke pressure',\n",
    "       'mid-stroke area covered', 'mid-stroke finger orientation',\n",
    "       'change of finger orientation', 'phone orientation']]\n",
    "y=data['user id']\n",
    "\n",
    "#translating each feature within a give range- preprocessing\n",
    "\n",
    "scalar_1= MinMaxScaler()\n",
    "scalar_1.fit(X= X)\n",
    "\n",
    "X==scalar_1.fit_transform(X)\n",
    "\n",
    "X_train, X_test, y_train, y_test = train_test_split(X, y, test_size=0.2, random_state=42)"
   ]
  },
  {
   "cell_type": "code",
   "execution_count": 31,
   "metadata": {},
   "outputs": [],
   "source": [
    "#creating SVM Model as kernel RBF\n",
    "\n",
    "def svm_model(X_train, y_train, x_test, c, gam):\n",
    "   \n",
    "    model=SVC(kernel='rbf',  gamma=gam,random_state=10,C=c,tol=0.00001,class_weight='balanced')\n",
    "    model=model.fit(X_train, y_train)\n",
    "    predict= model.predict(X_test)\n",
    "    \n",
    "    return predict\n",
    "    \n",
    "    \n",
    "    "
   ]
  },
  {
   "cell_type": "code",
   "execution_count": 32,
   "metadata": {},
   "outputs": [
    {
     "ename": "NameError",
     "evalue": "name 'train_class' is not defined",
     "output_type": "error",
     "traceback": [
      "\u001b[1;31m---------------------------------------------------------------------------\u001b[0m",
      "\u001b[1;31mNameError\u001b[0m                                 Traceback (most recent call last)",
      "\u001b[1;32m<ipython-input-32-4590376dc976>\u001b[0m in \u001b[0;36m<module>\u001b[1;34m\u001b[0m\n\u001b[0;32m     14\u001b[0m         \u001b[1;32mfor\u001b[0m \u001b[0mgam\u001b[0m \u001b[1;32min\u001b[0m \u001b[1;33m[\u001b[0m\u001b[1;36m0.1\u001b[0m\u001b[1;33m,\u001b[0m\u001b[1;36m2\u001b[0m\u001b[1;33m,\u001b[0m\u001b[1;36m4\u001b[0m\u001b[1;33m,\u001b[0m\u001b[1;36m8\u001b[0m\u001b[1;33m,\u001b[0m\u001b[1;36m10\u001b[0m\u001b[1;33m]\u001b[0m\u001b[1;33m:\u001b[0m\u001b[1;33m\u001b[0m\u001b[1;33m\u001b[0m\u001b[0m\n\u001b[0;32m     15\u001b[0m \u001b[1;33m\u001b[0m\u001b[0m\n\u001b[1;32m---> 16\u001b[1;33m             \u001b[0my_pred\u001b[0m\u001b[1;33m=\u001b[0m\u001b[0msvm_model\u001b[0m\u001b[1;33m(\u001b[0m\u001b[0mX_train\u001b[0m\u001b[1;33m,\u001b[0m \u001b[0my_train_new\u001b[0m\u001b[1;33m,\u001b[0m \u001b[0mX_test\u001b[0m\u001b[1;33m,\u001b[0m \u001b[0mc\u001b[0m\u001b[1;33m=\u001b[0m\u001b[0mc\u001b[0m\u001b[1;33m,\u001b[0m \u001b[0mgam\u001b[0m\u001b[1;33m=\u001b[0m\u001b[0mgam\u001b[0m\u001b[1;33m)\u001b[0m\u001b[1;33m\u001b[0m\u001b[1;33m\u001b[0m\u001b[0m\n\u001b[0m\u001b[0;32m     17\u001b[0m             \u001b[1;31m#creating confusion matrix\u001b[0m\u001b[1;33m\u001b[0m\u001b[1;33m\u001b[0m\u001b[1;33m\u001b[0m\u001b[0m\n\u001b[0;32m     18\u001b[0m             \u001b[0mConfusion\u001b[0m\u001b[1;33m=\u001b[0m \u001b[0mconfusion_matrix\u001b[0m\u001b[1;33m(\u001b[0m\u001b[0my_test_new\u001b[0m\u001b[1;33m,\u001b[0m \u001b[0my_pred\u001b[0m\u001b[1;33m)\u001b[0m\u001b[1;33m\u001b[0m\u001b[1;33m\u001b[0m\u001b[0m\n",
      "\u001b[1;32m<ipython-input-31-d7a3671f0f49>\u001b[0m in \u001b[0;36msvm_model\u001b[1;34m(X_train, y_train, x_test, c, gam)\u001b[0m\n\u001b[0;32m      2\u001b[0m \u001b[1;33m\u001b[0m\u001b[0m\n\u001b[0;32m      3\u001b[0m \u001b[1;32mdef\u001b[0m \u001b[0msvm_model\u001b[0m\u001b[1;33m(\u001b[0m\u001b[0mX_train\u001b[0m\u001b[1;33m,\u001b[0m \u001b[0my_train\u001b[0m\u001b[1;33m,\u001b[0m \u001b[0mx_test\u001b[0m\u001b[1;33m,\u001b[0m \u001b[0mc\u001b[0m\u001b[1;33m,\u001b[0m \u001b[0mgam\u001b[0m\u001b[1;33m)\u001b[0m\u001b[1;33m:\u001b[0m\u001b[1;33m\u001b[0m\u001b[1;33m\u001b[0m\u001b[0m\n\u001b[1;32m----> 4\u001b[1;33m     \u001b[0munique\u001b[0m\u001b[1;33m,\u001b[0m \u001b[0mcounts\u001b[0m \u001b[1;33m=\u001b[0m \u001b[0mnp\u001b[0m\u001b[1;33m.\u001b[0m\u001b[0munique\u001b[0m\u001b[1;33m(\u001b[0m\u001b[0mtrain_class\u001b[0m\u001b[1;33m,\u001b[0m \u001b[0mreturn_counts\u001b[0m\u001b[1;33m=\u001b[0m\u001b[1;32mTrue\u001b[0m\u001b[1;33m)\u001b[0m\u001b[1;33m\u001b[0m\u001b[1;33m\u001b[0m\u001b[0m\n\u001b[0m\u001b[0;32m      5\u001b[0m     \u001b[0mweights\u001b[0m\u001b[1;33m=\u001b[0m\u001b[0mdict\u001b[0m\u001b[1;33m(\u001b[0m\u001b[0mzip\u001b[0m\u001b[1;33m(\u001b[0m\u001b[0munique\u001b[0m\u001b[1;33m,\u001b[0m\u001b[0mcounts\u001b[0m\u001b[1;33m)\u001b[0m\u001b[1;33m)\u001b[0m\u001b[1;33m\u001b[0m\u001b[1;33m\u001b[0m\u001b[0m\n\u001b[0;32m      6\u001b[0m     \u001b[0mmodel\u001b[0m\u001b[1;33m=\u001b[0m\u001b[0mSVC\u001b[0m\u001b[1;33m(\u001b[0m\u001b[0mkernel\u001b[0m\u001b[1;33m=\u001b[0m\u001b[1;34m'rbf'\u001b[0m\u001b[1;33m,\u001b[0m  \u001b[0mgamma\u001b[0m\u001b[1;33m=\u001b[0m\u001b[0mgam\u001b[0m\u001b[1;33m,\u001b[0m\u001b[0mrandom_state\u001b[0m\u001b[1;33m=\u001b[0m\u001b[1;36m10\u001b[0m\u001b[1;33m,\u001b[0m\u001b[0mC\u001b[0m\u001b[1;33m=\u001b[0m\u001b[0mc\u001b[0m\u001b[1;33m,\u001b[0m\u001b[0mtol\u001b[0m\u001b[1;33m=\u001b[0m\u001b[1;36m0.00001\u001b[0m\u001b[1;33m,\u001b[0m\u001b[0mclass_weight\u001b[0m\u001b[1;33m=\u001b[0m\u001b[1;34m'balanced'\u001b[0m\u001b[1;33m)\u001b[0m\u001b[1;33m\u001b[0m\u001b[1;33m\u001b[0m\u001b[0m\n",
      "\u001b[1;31mNameError\u001b[0m: name 'train_class' is not defined"
     ]
    }
   ],
   "source": [
    "x= list(set(y_train))\n",
    "\n",
    "# creating user of interest and all other users for binary classification\n",
    "for j in x:\n",
    "   \n",
    "    y_train_new=np.array([1 if k==j else 0 for k in y_train])\n",
    "    y_train_new=y_train_new[:, np.newaxis]\n",
    "    y_test_new= np.array([1 if k==j else 0 for k in y_test ])\n",
    "    y_test_new=y_test_new[:, np.newaxis]\n",
    "    \n",
    "    accuracy=[]\n",
    "\n",
    "    for c in range(1,10,2):\n",
    "        for gam in [0.1,2,4,8,10]:\n",
    "            \n",
    "            y_pred=svm_model(X_train, y_train_new, X_test, c=c, gam=gam)\n",
    "            #creating confusion matrix\n",
    "            Confusion= confusion_matrix(y_test_new, y_pred)\n",
    "            print(Confusion)\n",
    "            print(classification_report(y_pred=y_pred,y_true=y_test_new))\n",
    "            #creating accuracy index\n",
    "            accuracy.append(accuracy_score(y_pred=y_pred, y_true= y_test_new))\n",
    "            print('Accuracy', accuracy)\n",
    "            \n",
    "    print(\"uSER ID\", j)\n"
   ]
  },
  {
   "cell_type": "code",
   "execution_count": null,
   "metadata": {},
   "outputs": [],
   "source": [
    "print ('Average Accuracy', np.mean(accuracy))"
   ]
  }
 ],
 "metadata": {
  "kernelspec": {
   "display_name": "Python 3",
   "language": "python",
   "name": "python3"
  }
 },
 "nbformat": 4,
 "nbformat_minor": 2
}
