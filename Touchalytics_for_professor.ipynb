{
 "cells": [
  {
   "cell_type": "code",
   "execution_count": null,
   "metadata": {},
   "outputs": [],
   "source": [
    "import warnings\n",
    "warnings.filterwarnings('ignore')\n",
    "import pandas as pd\n",
    "import numpy as np\n",
    "from sklearn.svm import LinearSVC,SVC\n",
    "from sklearn.model_selection import train_test_split\n",
    "from sklearn.preprocessing import MinMaxScaler\n",
    "from sklearn.metrics import mean_squared_error, confusion_matrix, classification_report\n",
    "from sklearn.metrics import confusion_matrix,accuracy_score\n",
    "from sklearn.neighbors import KNeighborsClassifier\n",
    "from sklearn.metrics import precision_score, recall_score,f1_score\n",
    "\n",
    "\n",
    "data=pd.read_csv(\"feature.csv\")\n",
    "\n",
    "data.dropna(inplace=True)"
   ]
  },
  {
   "cell_type": "code",
   "execution_count": 30,
   "metadata": {},
   "outputs": [],
   "source": [
    "X=data[[ 'inter-stroke time', 'stroke duration',\n",
    "       'start $x$', 'start $y$', 'stop $x$', 'stop $y$',\n",
    "       'direct end-to-end distance', ' mean resultant lenght',\n",
    "       'up/down/left/right flag', 'direction of end-to-end line',\n",
    "       '20\\%-perc. pairwise velocity', '50\\%-perc. pairwise velocity',\n",
    "       '80\\%-perc. pairwise velocity', '20\\%-perc. pairwise acc',\n",
    "       '50\\%-perc. pairwise acc', '80\\%-perc. pairwise acc',\n",
    "       'median velocity at last 3 pts',\n",
    "       'largest deviation from end-to-end line',\n",
    "       '20\\%-perc. dev. from end-to-end line',\n",
    "       '50\\%-perc. dev. from end-to-end line',\n",
    "       '80\\%-perc. dev. from end-to-end line', 'average direction',\n",
    "       'length of trajectory',\n",
    "       'ratio end-to-end dist and length of trajectory', 'average velocity',\n",
    "       'median acceleration at first 5 points', 'mid-stroke pressure',\n",
    "       'mid-stroke area covered', 'mid-stroke finger orientation',\n",
    "       'change of finger orientation', 'phone orientation']]\n",
    "y=data['user id']\n",
    "\n",
    "#translating each feature within a give range- preprocessing\n",
    "\n",
    "scalar_1= MinMaxScaler()\n",
    "scalar_1.fit(X= X)\n",
    "\n",
    "X==scalar_1.fit_transform(X)\n",
    "\n",
    "X_train, X_test, y_train, y_test = train_test_split(X, y, test_size=0.2, random_state=42)"
   ]
  },
  {
   "cell_type": "code",
   "execution_count": 33,
   "metadata": {},
   "outputs": [],
   "source": [
    "#creating SVM Model as kernel RBF\n",
    "\n",
    "def svm_model(X_train, y_train, x_test, c, gam):\n",
    "   \n",
    "    model=SVC(kernel='rbf',  gamma=gam,random_state=10,C=c,tol=0.00001,class_weight='balanced')\n",
    "    model=model.fit(X_train, y_train)\n",
    "    predict= model.predict(X_test)\n",
    "    \n",
    "    return predict\n",
    "    \n",
    "    \n",
    "    "
   ]
  },
  {
   "cell_type": "code",
   "execution_count": null,
   "metadata": {},
   "outputs": [],
   "source": [
    "x= list(set(y_train))\n",
    "\n",
    "# creating user of interest and all other users for binary classification\n",
    "for j in x:\n",
    "   \n",
    "    y_train_new=np.array([1 if k==j else 0 for k in y_train])\n",
    "    y_train_new=y_train_new[:, np.newaxis]\n",
    "    y_test_new= np.array([1 if k==j else 0 for k in y_test ])\n",
    "    y_test_new=y_test_new[:, np.newaxis]\n",
    "    \n",
    "    accuracy=[]\n",
    "\n",
    "    for c in range(1,10,2):\n",
    "        for gam in [0.1,2,4,8,10]:\n",
    "            \n",
    "            y_pred=svm_model(X_train, y_train_new, X_test, c=c, gam=gam)\n",
    "            #creating confusion matrix\n",
    "            Confusion= confusion_matrix(y_test_new, y_pred)\n",
    "            print(Confusion)\n",
    "            print(classification_report(y_pred=y_pred,y_true=y_test_new))\n",
    "            #creating accuracy index\n",
    "            accuracy.append(accuracy_score(y_pred=y_pred, y_true= y_test_new))\n",
    "            print('Accuracy', accuracy)\n",
    "            \n",
    "    print(\"uSER ID\", j)\n"
   ]
  },
  {
   "cell_type": "code",
   "execution_count": null,
   "metadata": {},
   "outputs": [],
   "source": [
    "print ('Average Accuracy', np.mean(accuracy))"
   ]
  }
 ],
 "metadata": {
  "kernelspec": {
   "display_name": "Python 3",
   "language": "python",
   "name": "python3"
  }
 },
 "nbformat": 4,
 "nbformat_minor": 2
}
